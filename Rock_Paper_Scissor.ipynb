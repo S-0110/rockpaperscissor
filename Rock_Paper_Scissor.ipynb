{
  "nbformat": 4,
  "nbformat_minor": 0,
  "metadata": {
    "colab": {
      "provenance": [],
      "authorship_tag": "ABX9TyMF+HGPkBywHYmiy96DfuaV",
      "include_colab_link": true
    },
    "kernelspec": {
      "name": "python3",
      "display_name": "Python 3"
    },
    "language_info": {
      "name": "python"
    }
  },
  "cells": [
    {
      "cell_type": "markdown",
      "metadata": {
        "id": "view-in-github",
        "colab_type": "text"
      },
      "source": [
        "<a href=\"https://colab.research.google.com/github/S-0110/rockpaperscissor/blob/main/Rock_Paper_Scissor.ipynb\" target=\"_parent\"><img src=\"https://colab.research.google.com/assets/colab-badge.svg\" alt=\"Open In Colab\"/></a>"
      ]
    },
    {
      "cell_type": "code",
      "execution_count": null,
      "metadata": {
        "id": "12Qa3fjCi2q5"
      },
      "outputs": [],
      "source": [
        "rock = '''    _______\n",
        "---'   ____)\n",
        "      (_____)\n",
        "      (_____)\n",
        "      (____)\n",
        "---.__(___)\n",
        "'''\n",
        "paper = '''    _______\n",
        "---'   ____)____\n",
        "          ______)\n",
        "          _______)\n",
        "         _______)\n",
        "---.__________)\n",
        "'''\n",
        "scissor = '''    _______\n",
        "---'   ____)____\n",
        "          ______)\n",
        "       __________)\n",
        "      (____)\n",
        "---.__(___)\n",
        "'''\n",
        "\n",
        "\n",
        "User_answer= int(input('What do you choose? Type 0 for Rock, 1 for Paper or 2 for Scissors. \\n'))\n",
        "if User_answer == 0:\n",
        "  print ('You chose Rock', rock)\n",
        "elif User_answer == 1:\n",
        "  print (\"You chose paper\", paper)\n",
        "elif User_answer == 2:\n",
        "  print (\"You chose scissor\", scissor)\n",
        "\n",
        "if User_answer>=3 or User_answer<0 :\n",
        " print ('Invalid Number')\n",
        "else:\n",
        "\n",
        "\n",
        "\n",
        "  import random\n",
        "  computer_choice= random.randint(0,2)\n",
        "  if computer_choice == 0:\n",
        "    print('Computer choose rock.', rock)\n",
        "  elif computer_choice == 1:\n",
        "    print('Computer choose Paper.', paper)\n",
        "  elif computer_choice == 2:\n",
        "    print('Computer choose Scissor.', scissor)\n",
        "\n",
        "\n",
        "  if User_answer == 0 and computer_choice == 2:\n",
        "    print('You win')\n",
        "  elif User_answer == 2 and computer_choice == 1:\n",
        "    print('You win')\n",
        "  elif User_answer == 1and computer_choice == 0:\n",
        "    print ('You win')\n",
        "  elif User_answer == 0 and computer_choice == 0:\n",
        "    print('Draw. Again choose')\n",
        "  elif User_answer == 1 and computer_choice == 1:\n",
        "    print('Draw. Again choose')\n",
        "  elif User_answer == 2 and computer_choice == 2:\n",
        "    print('Draw. Again choose')\n",
        "\n",
        "  else:\n",
        "    print ('You loose')"
      ]
    }
  ]
}